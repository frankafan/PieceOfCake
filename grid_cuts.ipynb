{
 "cells": [
  {
   "cell_type": "code",
   "execution_count": 1,
   "metadata": {},
   "outputs": [],
   "source": [
    "# !pip install numpy\n",
    "# !pip install matplotlib\n",
    "# !pip install scipy"
   ]
  },
  {
   "cell_type": "code",
   "execution_count": 2,
   "metadata": {},
   "outputs": [],
   "source": [
    "import numpy as np\n",
    "import math\n",
    "from scipy.optimize import linear_sum_assignment"
   ]
  },
  {
   "cell_type": "code",
   "execution_count": 3,
   "metadata": {},
   "outputs": [],
   "source": [
    "requests = [\n",
    "    10.0, 10.909090909090908, 11.818181818181818, 12.727272727272727,\n",
    "    13.636363636363637, 14.545454545454545, 15.454545454545453,\n",
    "    16.363636363636363, 17.272727272727273, 18.18181818181818,\n",
    "    19.09090909090909, 20.0, 20.909090909090907, 21.81818181818182,\n",
    "    22.727272727272727, 23.636363636363637, 24.545454545454547,\n",
    "    25.454545454545453, 26.363636363636363, 27.272727272727273,\n",
    "    28.18181818181818, 29.09090909090909, 30.0, 30.90909090909091,\n",
    "    31.818181818181817, 32.72727272727273, 33.63636363636364, 34.54545454545455,\n",
    "    35.45454545454545, 36.36363636363636, 37.27272727272727, 38.18181818181818,\n",
    "    39.09090909090909, 40.0, 40.90909090909091, 41.81818181818181,\n",
    "    42.72727272727273, 43.63636363636363, 44.54545454545455, 45.45454545454545,\n",
    "    46.36363636363636, 47.27272727272727, 48.18181818181818, 49.090909090909086,\n",
    "    50.0, 50.90909090909091, 51.81818181818182, 52.72727272727273,\n",
    "    53.63636363636363, 54.54545454545455, 55.45454545454545, 56.36363636363636,\n",
    "    57.27272727272727, 58.18181818181818, 59.090909090909086, 60.0,\n",
    "    60.90909090909091, 61.81818181818181, 62.72727272727273, 63.63636363636363,\n",
    "    64.54545454545455, 65.45454545454545, 66.36363636363636, 67.27272727272728,\n",
    "    68.18181818181819, 69.0909090909091, 70.0, 70.9090909090909,\n",
    "    71.81818181818181, 72.72727272727272, 73.63636363636363, 74.54545454545455,\n",
    "    75.45454545454545, 76.36363636363636, 77.27272727272727, 78.18181818181817,\n",
    "    79.0909090909091, 80.0, 80.9090909090909, 81.81818181818181,\n",
    "    82.72727272727272, 83.63636363636364, 84.54545454545455, 85.45454545454545,\n",
    "    86.36363636363636, 87.27272727272727, 88.18181818181817, 89.0909090909091,\n",
    "    90.0, 90.9090909090909, 91.81818181818181, 92.72727272727272,\n",
    "    93.63636363636364, 94.54545454545455, 95.45454545454545, 96.36363636363636,\n",
    "    97.27272727272727, 98.18181818181817, 99.0909090909091, 100.0\n",
    "  ]\n",
    "\n",
    "height = round(math.sqrt(1.05 * np.sum(requests) / 1.6), 2)\n",
    "width = round(height * 1.6, 2)"
   ]
  },
  {
   "cell_type": "code",
   "execution_count": 4,
   "metadata": {},
   "outputs": [],
   "source": [
    "def factor_pairs(x):\n",
    "    pairs = []\n",
    "    limit = int(abs(x) ** 0.5) + 1\n",
    "    for i in range(1, limit):\n",
    "        if x % i == 0:\n",
    "            pairs.append((i, x // i))\n",
    "    return pairs\n",
    "\n",
    "\n",
    "def calculate_piece_areas(x_cuts, y_cuts):\n",
    "    x_coords = np.sort(np.concatenate(([0], x_cuts, [width])))\n",
    "    y_coords = np.sort(np.concatenate(([0], y_cuts, [height])))\n",
    "    \n",
    "    piece_widths = np.diff(x_coords)\n",
    "    piece_heights = np.diff(y_coords)\n",
    "    \n",
    "    areas = np.concatenate(np.outer(piece_widths, piece_heights))\n",
    "    \n",
    "    return areas\n",
    "\n",
    "\n",
    "def loss_function(areas, requests):\n",
    "    R = requests\n",
    "    V = areas\n",
    "\n",
    "    num_requests = len(R)\n",
    "    num_values = len(V)\n",
    "\n",
    "    cost_matrix = np.zeros((num_requests, num_values))\n",
    "\n",
    "    for i, r in enumerate(R):\n",
    "        for j, v in enumerate(V):\n",
    "            cost_matrix[i][j] = abs(r - v) / r\n",
    "\n",
    "    row_indices, col_indices = linear_sum_assignment(cost_matrix)\n",
    "\n",
    "    total_cost = sum(\n",
    "        cost_matrix[row_indices[i], col_indices[i]] for i in range(len(row_indices))\n",
    "    )\n",
    "\n",
    "    return total_cost"
   ]
  },
  {
   "cell_type": "code",
   "execution_count": 5,
   "metadata": {},
   "outputs": [
    {
     "data": {
      "text/plain": [
       "(5, 20)"
      ]
     },
     "execution_count": 5,
     "metadata": {},
     "output_type": "execute_result"
    }
   ],
   "source": [
    "factors = factor_pairs(len(requests))\n",
    "\n",
    "num_horizontal, num_vertical = factors[3]\n",
    "num_horizontal, num_vertical"
   ]
  },
  {
   "cell_type": "code",
   "execution_count": 6,
   "metadata": {},
   "outputs": [
    {
     "name": "stdout",
     "output_type": "stream",
     "text": [
      "Areas of individual pieces: [ 21.     259.      42.      35.      49.      14.56     6.      74.\n",
      "  12.      10.      14.       4.16    18.     222.      36.      30.\n",
      "  42.      12.48     6.      74.      12.      10.      14.       4.16\n",
      "   3.      37.       6.       5.       7.       2.08    36.     444.\n",
      "  72.      60.      84.      24.96    24.     296.      48.      40.\n",
      "  56.      16.64     3.      37.       6.       5.       7.       2.08\n",
      "   3.      37.       6.       5.       7.       2.08    42.     518.\n",
      "  84.      70.      98.      29.12     0.       0.       0.       0.\n",
      "   0.       0.      18.     222.      36.      30.      42.      12.48\n",
      "   3.      37.       6.       5.       7.       2.08    12.     148.\n",
      "  24.      20.      28.       8.32     0.       0.       0.       0.\n",
      "   0.       0.       9.     111.      18.      15.      21.       6.24\n",
      "   3.      37.       6.       5.       7.       2.08     9.     111.\n",
      "  18.      15.      21.       6.24    54.     666.     108.      90.\n",
      " 126.      37.44     3.      37.       6.       5.       7.       2.08\n",
      "  15.39   189.81    30.78    25.65    35.91    10.6704]\n",
      "Total loss: 38.83957152937029\n"
     ]
    }
   ],
   "source": [
    "x_cuts = np.random.randint(1, width, num_vertical)\n",
    "y_cuts = np.random.randint(1, height, num_horizontal)\n",
    "\n",
    "areas = calculate_piece_areas(x_cuts, y_cuts)\n",
    "loss = loss_function(areas, requests)\n",
    "\n",
    "print(\"Areas of individual pieces:\", areas)\n",
    "print(\"Total loss:\", loss)"
   ]
  },
  {
   "cell_type": "code",
   "execution_count": 7,
   "metadata": {},
   "outputs": [
    {
     "name": "stdout",
     "output_type": "stream",
     "text": [
      "Gradient for x_cuts: [ 0.58887516 -0.77474047 -0.86327422  0.65268526  1.02524924  0.13520631\n",
      " -0.69788283 -0.04136059 -1.08467283  0.58887516  0.40131462  0.\n",
      "  0.40131462  0.58887516 -0.011618   -0.69788283 -1.13233723  0.94471443\n",
      "  0.99371845  1.56634429]\n",
      "Gradient for y_cuts: [-1.8960522   0.5977491   1.2836681  -0.25616279 -0.37181137]\n"
     ]
    }
   ],
   "source": [
    "def calculate_gradient(x_cuts, y_cuts, requests, curr_loss, epsilon=1):\n",
    "    grad_x_cuts = np.zeros_like(x_cuts, dtype=float)\n",
    "    grad_y_cuts = np.zeros_like(y_cuts, dtype=float)\n",
    "    \n",
    "    for i in range(len(x_cuts)):\n",
    "        x_cuts_eps = x_cuts.copy()\n",
    "        x_cuts_eps[i] += epsilon\n",
    "        areas_eps = calculate_piece_areas(x_cuts_eps, y_cuts)\n",
    "        loss_eps = loss_function(areas_eps, requests)\n",
    "        grad_x_cuts[i] = (loss_eps - curr_loss) / epsilon\n",
    "    \n",
    "    for i in range(len(y_cuts)):\n",
    "        y_cuts_eps = y_cuts.copy()\n",
    "        y_cuts_eps[i] += epsilon\n",
    "        areas_eps = calculate_piece_areas(x_cuts, y_cuts_eps)\n",
    "        loss_eps = loss_function(areas_eps, requests)\n",
    "        grad_y_cuts[i] = (loss_eps - curr_loss) / epsilon\n",
    "    \n",
    "    return grad_x_cuts, grad_y_cuts\n",
    "\n",
    "x_cuts = np.random.randint(1, width, num_vertical)\n",
    "y_cuts = np.random.randint(1, height, num_horizontal)\n",
    "curr_loss = loss_function(calculate_piece_areas(x_cuts, y_cuts), requests)\n",
    "grad_x_cuts, grad_y_cuts = calculate_gradient(x_cuts, y_cuts, requests, curr_loss)\n",
    "\n",
    "print(\"Gradient for x_cuts:\", grad_x_cuts)\n",
    "print(\"Gradient for y_cuts:\", grad_y_cuts)"
   ]
  }
 ],
 "metadata": {
  "kernelspec": {
   "display_name": "base",
   "language": "python",
   "name": "python3"
  },
  "language_info": {
   "codemirror_mode": {
    "name": "ipython",
    "version": 3
   },
   "file_extension": ".py",
   "mimetype": "text/x-python",
   "name": "python",
   "nbconvert_exporter": "python",
   "pygments_lexer": "ipython3",
   "version": "3.11.5"
  }
 },
 "nbformat": 4,
 "nbformat_minor": 2
}
