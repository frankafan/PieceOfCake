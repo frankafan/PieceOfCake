{
 "cells": [
  {
   "cell_type": "code",
   "execution_count": 5,
   "metadata": {},
   "outputs": [],
   "source": [
    "import numpy as np\n",
    "import math\n",
    "from scipy.optimize import linear_sum_assignment\n"
   ]
  },
  {
   "cell_type": "code",
   "execution_count": 6,
   "metadata": {},
   "outputs": [],
   "source": [
    "requests = [\n",
    "    10.0, 10.909090909090908, 11.818181818181818, 12.727272727272727,\n",
    "    13.636363636363637, 14.545454545454545, 15.454545454545453,\n",
    "    16.363636363636363, 17.272727272727273, 18.18181818181818,\n",
    "    19.09090909090909, 20.0, 20.909090909090907, 21.81818181818182,\n",
    "    22.727272727272727, 23.636363636363637, 24.545454545454547,\n",
    "    25.454545454545453, 26.363636363636363, 27.272727272727273,\n",
    "    28.18181818181818, 29.09090909090909, 30.0, 30.90909090909091,\n",
    "    31.818181818181817, 32.72727272727273, 33.63636363636364, 34.54545454545455,\n",
    "    35.45454545454545, 36.36363636363636, 37.27272727272727, 38.18181818181818,\n",
    "    39.09090909090909, 40.0, 40.90909090909091, 41.81818181818181,\n",
    "    42.72727272727273, 43.63636363636363, 44.54545454545455, 45.45454545454545,\n",
    "    46.36363636363636, 47.27272727272727, 48.18181818181818, 49.090909090909086,\n",
    "    50.0, 50.90909090909091, 51.81818181818182, 52.72727272727273,\n",
    "    53.63636363636363, 54.54545454545455, 55.45454545454545, 56.36363636363636,\n",
    "    57.27272727272727, 58.18181818181818, 59.090909090909086, 60.0,\n",
    "    60.90909090909091, 61.81818181818181, 62.72727272727273, 63.63636363636363,\n",
    "    64.54545454545455, 65.45454545454545, 66.36363636363636, 67.27272727272728,\n",
    "    68.18181818181819, 69.0909090909091, 70.0, 70.9090909090909,\n",
    "    71.81818181818181, 72.72727272727272, 73.63636363636363, 74.54545454545455,\n",
    "    75.45454545454545, 76.36363636363636, 77.27272727272727, 78.18181818181817,\n",
    "    79.0909090909091, 80.0, 80.9090909090909, 81.81818181818181,\n",
    "    82.72727272727272, 83.63636363636364, 84.54545454545455, 85.45454545454545,\n",
    "    86.36363636363636, 87.27272727272727, 88.18181818181817, 89.0909090909091,\n",
    "    90.0, 90.9090909090909, 91.81818181818181, 92.72727272727272,\n",
    "    93.63636363636364, 94.54545454545455, 95.45454545454545, 96.36363636363636,\n",
    "    97.27272727272727, 98.18181818181817, 99.0909090909091, 100.0\n",
    "  ]\n",
    "\n",
    "height = round(math.sqrt(1.05 * np.sum(requests) / 1.6), 2)\n",
    "width = round(height * 1.6, 2)"
   ]
  },
  {
   "cell_type": "code",
   "execution_count": 7,
   "metadata": {},
   "outputs": [],
   "source": [
    "\n",
    "\n",
    "def factor_pairs(x):\n",
    "    pairs = []\n",
    "    limit = int(abs(x) ** 0.5) + 1\n",
    "    for i in range(1, limit):\n",
    "        if x % i == 0:\n",
    "            pairs.append((i, x // i))\n",
    "    return pairs\n",
    "\n",
    "\n",
    "def calculate_piece_areas(width, height, x_cuts, y_cuts):\n",
    "    x_coords = np.sort(np.concatenate(([0], x_cuts, [width])))\n",
    "    y_coords = np.sort(np.concatenate(([0], y_cuts, [height])))\n",
    "    \n",
    "    piece_widths = np.diff(x_coords)\n",
    "    piece_heights = np.diff(y_coords)\n",
    "    \n",
    "    areas = np.concatenate(np.outer(piece_widths, piece_heights))\n",
    "    \n",
    "    return areas\n",
    "\n",
    "\n",
    "def cost_function(areas, requests):\n",
    "    R = requests\n",
    "    V = areas\n",
    "\n",
    "    num_requests = len(R)\n",
    "    num_values = len(V)\n",
    "\n",
    "    cost_matrix = np.zeros((num_requests, num_values))\n",
    "\n",
    "    for i, r in enumerate(R):\n",
    "        for j, v in enumerate(V):\n",
    "            cost_matrix[i][j] = abs(r - v) / r\n",
    "\n",
    "    row_indices, col_indices = linear_sum_assignment(cost_matrix)\n",
    "\n",
    "    total_cost = sum(\n",
    "        cost_matrix[row_indices[i], col_indices[i]] for i in range(len(row_indices))\n",
    "    )\n",
    "\n",
    "    return total_cost"
   ]
  },
  {
   "cell_type": "code",
   "execution_count": 8,
   "metadata": {},
   "outputs": [],
   "source": [
    "num_vertical = 3\n",
    "num_horizontal = 2"
   ]
  },
  {
   "cell_type": "code",
   "execution_count": 9,
   "metadata": {},
   "outputs": [
    {
     "name": "stdout",
     "output_type": "stream",
     "text": [
      "Areas of individual pieces: [ 456.     1596.     1372.56     24.       84.       72.24    144.\n",
      "  504.      433.44    145.04    507.64    436.5704]\n"
     ]
    }
   ],
   "source": [
    "x_cuts = np.random.randint(1, width, num_vertical)\n",
    "y_cuts = np.random.randint(1, height, num_horizontal)\n",
    "\n",
    "areas = calculate_piece_areas(width, height, x_cuts, y_cuts)\n",
    "print(\"Areas of individual pieces:\", areas)"
   ]
  }
 ],
 "metadata": {
  "kernelspec": {
   "display_name": "Python 3",
   "language": "python",
   "name": "python3"
  },
  "language_info": {
   "codemirror_mode": {
    "name": "ipython",
    "version": 3
   },
   "file_extension": ".py",
   "mimetype": "text/x-python",
   "name": "python",
   "nbconvert_exporter": "python",
   "pygments_lexer": "ipython3",
   "version": "3.11.9"
  }
 },
 "nbformat": 4,
 "nbformat_minor": 2
}
