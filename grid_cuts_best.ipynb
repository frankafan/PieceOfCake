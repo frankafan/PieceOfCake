{
 "cells": [
  {
   "cell_type": "code",
   "execution_count": null,
   "metadata": {
    "colab": {
     "base_uri": "https://localhost:8080/"
    },
    "id": "po7dAu1FPkHu",
    "outputId": "f9895ff2-2352-4cfd-be2f-7b1bc6af78f4"
   },
   "outputs": [],
   "source": [
    "!pip install numpy\n",
    "!pip install matplotlib\n",
    "!pip install scipy"
   ]
  },
  {
   "cell_type": "code",
   "execution_count": null,
   "metadata": {
    "id": "Flr197IxPkHw"
   },
   "outputs": [],
   "source": [
    "import numpy as np\n",
    "import math\n",
    "from scipy.optimize import linear_sum_assignment\n",
    "import matplotlib.pyplot as plt"
   ]
  },
  {
   "cell_type": "code",
   "execution_count": null,
   "metadata": {
    "id": "gwODSN-EPkHx"
   },
   "outputs": [],
   "source": [
    "requests = [\n",
    "    10.0, 10.909090909090908, 11.818181818181818, 12.727272727272727,\n",
    "    13.636363636363637, 14.545454545454545, 15.454545454545453,\n",
    "    16.363636363636363, 17.272727272727273, 18.18181818181818,\n",
    "    19.09090909090909, 20.0, 20.909090909090907, 21.81818181818182,\n",
    "    22.727272727272727, 23.636363636363637, 24.545454545454547,\n",
    "    25.454545454545453, 26.363636363636363, 27.272727272727273,\n",
    "    28.18181818181818, 29.09090909090909, 30.0, 30.90909090909091,\n",
    "    31.818181818181817, 32.72727272727273, 33.63636363636364, 34.54545454545455,\n",
    "    35.45454545454545, 36.36363636363636, 37.27272727272727, 38.18181818181818,\n",
    "    39.09090909090909, 40.0, 40.90909090909091, 41.81818181818181,\n",
    "    42.72727272727273, 43.63636363636363, 44.54545454545455, 45.45454545454545,\n",
    "    46.36363636363636, 47.27272727272727, 48.18181818181818, 49.090909090909086,\n",
    "    50.0, 50.90909090909091, 51.81818181818182, 52.72727272727273,\n",
    "    53.63636363636363, 54.54545454545455, 55.45454545454545, 56.36363636363636,\n",
    "    57.27272727272727, 58.18181818181818, 59.090909090909086, 60.0,\n",
    "    60.90909090909091, 61.81818181818181, 62.72727272727273, 63.63636363636363,\n",
    "    64.54545454545455, 65.45454545454545, 66.36363636363636, 67.27272727272728,\n",
    "    68.18181818181819, 69.0909090909091, 70.0, 70.9090909090909,\n",
    "    71.81818181818181, 72.72727272727272, 73.63636363636363, 74.54545454545455,\n",
    "    75.45454545454545, 76.36363636363636, 77.27272727272727, 78.18181818181817,\n",
    "    79.0909090909091, 80.0, 80.9090909090909, 81.81818181818181,\n",
    "    82.72727272727272, 83.63636363636364, 84.54545454545455, 85.45454545454545,\n",
    "    86.36363636363636, 87.27272727272727, 88.18181818181817, 89.0909090909091,\n",
    "    90.0, 90.9090909090909, 91.81818181818181, 92.72727272727272,\n",
    "    93.63636363636364, 94.54545454545455, 95.45454545454545, 96.36363636363636,\n",
    "    97.27272727272727, 98.18181818181817, 99.0909090909091, 100.0\n",
    "  ]\n",
    "\n",
    "height = round(math.sqrt(1.05 * np.sum(requests) / 1.6), 2)\n",
    "width = round(height * 1.6, 2)"
   ]
  },
  {
   "cell_type": "code",
   "execution_count": null,
   "metadata": {
    "id": "QZZHxm12PkHy"
   },
   "outputs": [],
   "source": [
    "def factor_pairs(x):\n",
    "    min_pairs = 5\n",
    "\n",
    "    def get_factor_pairs(n):\n",
    "        pairs = []\n",
    "        limit = int(abs(n) ** 0.5) + 1\n",
    "        for i in range(1, limit):\n",
    "            if n % i == 0 and i != 1:\n",
    "                pairs.append((i, n // i))\n",
    "        return pairs\n",
    "\n",
    "    pairs = get_factor_pairs(x)\n",
    "\n",
    "    offset = 1\n",
    "    while len(pairs) < min_pairs:\n",
    "        higher_pairs = get_factor_pairs(x + offset)\n",
    "        for pair in higher_pairs:\n",
    "            if (1 not in pair) and (pair not in pairs):\n",
    "                pairs.append(pair)\n",
    "        offset += 1\n",
    "\n",
    "    return pairs\n",
    "\n",
    "\n",
    "def calculate_piece_areas(x_cuts, y_cuts):\n",
    "    x_coords = np.sort(np.concatenate(([0], x_cuts, [width])))\n",
    "    y_coords = np.sort(np.concatenate(([0], y_cuts, [height])))\n",
    "\n",
    "    piece_widths = np.diff(x_coords)\n",
    "    piece_heights = np.diff(y_coords)\n",
    "\n",
    "    areas = np.concatenate(np.outer(piece_widths, piece_heights))\n",
    "\n",
    "    return areas\n",
    "\n",
    "\n",
    "def loss_function(areas, requests):\n",
    "    R = requests\n",
    "    V = areas\n",
    "\n",
    "    num_requests = len(R)\n",
    "    num_values = len(V)\n",
    "\n",
    "    cost_matrix = np.zeros((num_requests, num_values))\n",
    "\n",
    "    for i, r in enumerate(R):\n",
    "        for j, v in enumerate(V):\n",
    "            cost_matrix[i][j] = abs(r - v) / r\n",
    "\n",
    "    row_indices, col_indices = linear_sum_assignment(cost_matrix)\n",
    "\n",
    "    total_cost = sum(\n",
    "        cost_matrix[row_indices[i], col_indices[i]] for i in range(len(row_indices))\n",
    "    )\n",
    "\n",
    "    return total_cost\n",
    "\n",
    "\n",
    "def calculate_gradient(x_cuts, y_cuts, requests, curr_loss, epsilon=1e-3):\n",
    "    grad_x_cuts = np.zeros_like(x_cuts, dtype=float)\n",
    "    grad_y_cuts = np.zeros_like(y_cuts, dtype=float)\n",
    "\n",
    "    for i in range(len(x_cuts)):\n",
    "        x_cuts_eps = x_cuts.copy()\n",
    "        x_cuts_eps[i] += epsilon\n",
    "        areas_eps = calculate_piece_areas(x_cuts_eps, y_cuts)\n",
    "        loss_eps = loss_function(areas_eps, requests)\n",
    "        grad_x_cuts[i] = (loss_eps - curr_loss) / epsilon\n",
    "\n",
    "    for i in range(len(y_cuts)):\n",
    "        y_cuts_eps = y_cuts.copy()\n",
    "        y_cuts_eps[i] += epsilon\n",
    "        areas_eps = calculate_piece_areas(x_cuts, y_cuts_eps)\n",
    "        loss_eps = loss_function(areas_eps, requests)\n",
    "        grad_y_cuts[i] = (loss_eps - curr_loss) / epsilon\n",
    "\n",
    "    return grad_x_cuts, grad_y_cuts\n"
   ]
  },
  {
   "cell_type": "code",
   "execution_count": null,
   "metadata": {
    "id": "eGVk5n3oPkHy"
   },
   "outputs": [],
   "source": [
    "def gradient_descent(factors, learning_rate=0.1, num_iterations=200, epsilon=1e-3, learning_rate_decay=1, num_restarts=10):\n",
    "    best_loss = float(\"inf\")\n",
    "    best_x_cuts = None\n",
    "    best_y_cuts = None\n",
    "    all_losses = []\n",
    "\n",
    "    for factor in factors:\n",
    "        # print(f\"Factor pair: {factor}\")\n",
    "        num_horizontal, num_vertical = factor\n",
    "\n",
    "        restart_losses = []\n",
    "\n",
    "        for i in range(num_restarts):\n",
    "            x_cuts = np.array(np.random.randint(1, width, num_vertical), dtype=float)\n",
    "            y_cuts = np.array(np.random.randint(1, height, num_horizontal), dtype=float)\n",
    "\n",
    "            best_x_cuts = x_cuts.copy()\n",
    "            best_y_cuts = y_cuts.copy()\n",
    "\n",
    "            losses = []\n",
    "            lr = learning_rate\n",
    "            for i in range(num_iterations):\n",
    "                lr = max(lr * learning_rate_decay, 1e-2)\n",
    "\n",
    "                areas = calculate_piece_areas(x_cuts, y_cuts)\n",
    "                loss = loss_function(areas, requests)\n",
    "                losses.append(loss)\n",
    "\n",
    "                if loss < best_loss:\n",
    "                    best_loss = loss\n",
    "                    best_x_cuts = x_cuts.copy()\n",
    "                    best_y_cuts = y_cuts.copy()\n",
    "\n",
    "                grad_x_cuts, grad_y_cuts = calculate_gradient(x_cuts, y_cuts, requests, loss, epsilon)\n",
    "\n",
    "                x_cuts -= lr * grad_x_cuts\n",
    "                y_cuts -= lr * grad_y_cuts\n",
    "                # print(f'Iteration {i + 1}: Loss = {loss}, Best loss = {best_loss}')\n",
    "            restart_losses.append(losses)\n",
    "        all_losses.append(restart_losses)\n",
    "    all_losses = np.array(all_losses)\n",
    "\n",
    "    return best_x_cuts, best_y_cuts, all_losses"
   ]
  },
  {
   "cell_type": "code",
   "execution_count": null,
   "metadata": {
    "id": "TsY6MB2GPkHy"
   },
   "outputs": [],
   "source": [
    "learning_rate = 1\n",
    "learning_rate_decay = 0.99\n",
    "num_iterations = 500\n",
    "epsilon = 1e-3\n",
    "num_restarts = 10\n",
    "\n",
    "factors = factor_pairs(len(requests))\n",
    "best_x_cuts, best_y_cuts, all_losses = gradient_descent(factors, learning_rate, num_iterations, epsilon, learning_rate_decay, num_restarts)\n",
    "\n",
    "print(\"Best loss:\", np.min(np.concatenate(all_losses)))"
   ]
  },
  {
   "cell_type": "code",
   "execution_count": null,
   "metadata": {
    "id": "QBZJ-THrPkHz"
   },
   "outputs": [],
   "source": [
    "for i, (num_horizontal, num_vertical) in enumerate(factors):\n",
    "    plt.figure()\n",
    "\n",
    "    for losses in all_losses[i]:\n",
    "        plt.plot(losses)\n",
    "\n",
    "    plt.xlabel('Steps')\n",
    "    plt.ylabel('Loss')\n",
    "    plt.title(f'{num_horizontal}x{num_horizontal}, best loss: {np.min(np.concatenate(all_losses[i]))}')\n",
    "    plt.legend([f'Restart {i}' for i in range(len(all_losses[i]))])\n",
    "    plt.show()"
   ]
  },
  {
   "cell_type": "code",
   "execution_count": null,
   "metadata": {
    "id": "tcVPPBUbPvtC"
   },
   "outputs": [],
   "source": [
    "best_x_cuts, best_y_cuts"
   ]
  }
 ],
 "metadata": {
  "colab": {
   "provenance": []
  },
  "kernelspec": {
   "display_name": "frank",
   "language": "python",
   "name": "python3"
  },
  "language_info": {
   "codemirror_mode": {
    "name": "ipython",
    "version": 3
   },
   "file_extension": ".py",
   "mimetype": "text/x-python",
   "name": "python",
   "nbconvert_exporter": "python",
   "pygments_lexer": "ipython3",
   "version": "3.12.1"
  }
 },
 "nbformat": 4,
 "nbformat_minor": 0
}
